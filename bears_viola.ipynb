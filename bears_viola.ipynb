{
 "cells": [
  {
   "cell_type": "code",
   "execution_count": null,
   "metadata": {},
   "outputs": [],
   "source": [
    "from fastai.vision import *\n",
    "from fastai.imports import *\n",
    "from fastai.learner import *\n",
    "from fastai.vision.core import *\n",
    "from fastai.vision.widgets import *"
   ]
  },
  {
   "cell_type": "code",
   "execution_count": null,
   "metadata": {
    "id": "GM8pRp_EtbXB"
   },
   "outputs": [],
   "source": [
    "#path = Path()\n",
    "import urllib.request\n",
    "\n",
    "MODEL_URL = \"https://drive.google.com/file/d/1Rl_OZRX-aodDtryCyt4bclR3ZMvl93Yb/view?usp=sharing\"\n",
    "urllib.request.urlretrieve(MODEL_URL, \"export.pkl\")\n",
    "\n",
    "#learn_inf = load_learner(Path(\".\"), \"export.pkl\")"
   ]
  },
  {
   "cell_type": "code",
   "execution_count": null,
   "metadata": {
    "id": "3omv0dzvt6S2"
   },
   "outputs": [],
   "source": [
    "learn_inf = load_learner('export.pkl')"
   ]
  },
  {
   "cell_type": "code",
   "execution_count": null,
   "metadata": {
    "id": "eyM2OvcMt_9l"
   },
   "outputs": [],
   "source": [
    "btn_upload = widgets.FileUpload()"
   ]
  },
  {
   "cell_type": "code",
   "execution_count": null,
   "metadata": {
    "id": "nXMvlzRquKvS"
   },
   "outputs": [],
   "source": [
    "btn_run = widgets.Button(description='Classify')"
   ]
  },
  {
   "cell_type": "code",
   "execution_count": null,
   "metadata": {
    "id": "KkLAgrRavJrR"
   },
   "outputs": [],
   "source": [
    "out_pl = widgets.Output()\n",
    "out_pl.clear_output()\n",
    "with out_pl: display(img.to_thumb(128,128))"
   ]
  },
  {
   "cell_type": "code",
   "execution_count": null,
   "metadata": {
    "id": "XASutYSiuxYl"
   },
   "outputs": [],
   "source": [
    "def on_click_classify(change):\n",
    "    img = PILImage.create(btn_upload.data[-1])\n",
    "    out_pl.clear_output()\n",
    "    with out_pl: display(img.to_thumb(128,128))\n",
    "    pred,pred_idx,probs = learn_inf.predict(img)\n",
    "    lbl_pred.value = f'Prediction: {pred}; Probability: {probs[pred_idx]:.04f}'\n",
    "\n",
    "btn_run.on_click(on_click_classify)"
   ]
  },
  {
   "cell_type": "code",
   "execution_count": null,
   "metadata": {
    "colab": {
     "base_uri": "https://localhost:8080/",
     "height": 273,
     "referenced_widgets": [
      "e8f4d4a39feb41aa94cd2218f8307038",
      "0134ffbb5f6b49a1b2179fe68c1a296a",
      "2097a4f514be426d83474345941d2c9f",
      "1fee97c8eb21440eae8b77ef6502ded7",
      "999149a048f142009e07def06d7ed760",
      "4176e95ce4644bb4b5c2a5a3742b8b63",
      "31f0bfec10e24daf88ddb1f12d7d8c15",
      "577e3830651b4647a714fa45b7ad5372",
      "5220ebaaf2984805a1884b6cc5ba1a38",
      "5cbbb57d19ed4d10be920d40e12f2933",
      "82f831e8465d4b1587b5ae3fdd77d829",
      "3c75dfc701414c0db019b7435ccc0200",
      "3e3c2996b7d344eea889b1668309f1ac",
      "ecbb7795ba7d4eecb552f05877970e81",
      "21a739de80864e79b7b443ec83d40145",
      "cf4428d507354eae969511a0dfd503ac"
     ]
    },
    "executionInfo": {
     "elapsed": 1371,
     "status": "ok",
     "timestamp": 1602521774881,
     "user": {
      "displayName": "Rauten Hofmeyr",
      "photoUrl": "",
      "userId": "11077853794178985860"
     },
     "user_tz": -120
    },
    "id": "yE-ONOv9u08l",
    "outputId": "fd4dd63b-06d3-4531-a41e-a36bf96504e3"
   },
   "outputs": [
    {
     "data": {
      "application/vnd.jupyter.widget-view+json": {
       "model_id": "e8f4d4a39feb41aa94cd2218f8307038",
       "version_major": 2,
       "version_minor": 0
      },
      "text/plain": [
       "VBox(children=(Label(value='Select your bear!'), FileUpload(value={}, description='Upload'), Button(descriptio…"
      ]
     },
     "metadata": {
      "tags": []
     },
     "output_type": "display_data"
    },
    {
     "data": {
      "text/html": [],
      "text/plain": [
       "<IPython.core.display.HTML object>"
      ]
     },
     "metadata": {
      "tags": []
     },
     "output_type": "display_data"
    },
    {
     "data": {
      "text/html": [],
      "text/plain": [
       "<IPython.core.display.HTML object>"
      ]
     },
     "metadata": {
      "tags": []
     },
     "output_type": "display_data"
    }
   ],
   "source": [
    "VBox([widgets.Label('Select your bear!'), \n",
    "      btn_upload, btn_run, out_pl, lbl_pred])"
   ]
  },
  {
   "cell_type": "code",
   "execution_count": null,
   "metadata": {
    "id": "SXY9SN-5u5_f"
   },
   "outputs": [],
   "source": []
  }
 ],
 "metadata": {
  "colab": {
   "authorship_tag": "ABX9TyMoFO+qxQ8K4oHACf6mFvEJ",
   "name": "bears_viola.ipynb",
   "provenance": []
  },
  "kernelspec": {
   "display_name": "Python 3",
   "language": "python",
   "name": "python3"
  },
  "language_info": {
   "codemirror_mode": {
    "name": "ipython",
    "version": 3
   },
   "file_extension": ".py",
   "mimetype": "text/x-python",
   "name": "python",
   "nbconvert_exporter": "python",
   "pygments_lexer": "ipython3",
   "version": "3.8.3"
  },
  "widgets": {
   "application/vnd.jupyter.widget-state+json": {
    "0134ffbb5f6b49a1b2179fe68c1a296a": {
     "model_module": "@jupyter-widgets/base",
     "model_name": "LayoutModel",
     "state": {
      "_model_module": "@jupyter-widgets/base",
      "_model_module_version": "1.2.0",
      "_model_name": "LayoutModel",
      "_view_count": null,
      "_view_module": "@jupyter-widgets/base",
      "_view_module_version": "1.2.0",
      "_view_name": "LayoutView",
      "align_content": null,
      "align_items": null,
      "align_self": null,
      "border": null,
      "bottom": null,
      "display": null,
      "flex": null,
      "flex_flow": null,
      "grid_area": null,
      "grid_auto_columns": null,
      "grid_auto_flow": null,
      "grid_auto_rows": null,
      "grid_column": null,
      "grid_gap": null,
      "grid_row": null,
      "grid_template_areas": null,
      "grid_template_columns": null,
      "grid_template_rows": null,
      "height": null,
      "justify_content": null,
      "justify_items": null,
      "left": null,
      "margin": null,
      "max_height": null,
      "max_width": null,
      "min_height": null,
      "min_width": null,
      "object_fit": null,
      "object_position": null,
      "order": null,
      "overflow": null,
      "overflow_x": null,
      "overflow_y": null,
      "padding": null,
      "right": null,
      "top": null,
      "visibility": null,
      "width": null
     }
    },
    "1fee97c8eb21440eae8b77ef6502ded7": {
     "model_module": "@jupyter-widgets/controls",
     "model_name": "FileUploadModel",
     "state": {
      "_counter": 1,
      "_dom_classes": [],
      "_model_module": "@jupyter-widgets/controls",
      "_model_module_version": "1.5.0",
      "_model_name": "FileUploadModel",
      "_view_count": null,
      "_view_module": "@jupyter-widgets/controls",
      "_view_module_version": "1.5.0",
      "_view_name": "FileUploadView",
      "accept": "",
      "button_style": "",
      "data": [
       null
      ],
      "description": "Upload",
      "description_tooltip": null,
      "disabled": false,
      "error": "",
      "icon": "upload",
      "layout": "IPY_MODEL_82f831e8465d4b1587b5ae3fdd77d829",
      "metadata": [
       {
        "lastModified": 1602517681393,
        "name": "00000138.jpg",
        "size": 28267,
        "type": "image/jpeg"
       }
      ],
      "multiple": false,
      "style": "IPY_MODEL_5cbbb57d19ed4d10be920d40e12f2933"
     }
    },
    "2097a4f514be426d83474345941d2c9f": {
     "model_module": "@jupyter-widgets/controls",
     "model_name": "LabelModel",
     "state": {
      "_dom_classes": [],
      "_model_module": "@jupyter-widgets/controls",
      "_model_module_version": "1.5.0",
      "_model_name": "LabelModel",
      "_view_count": null,
      "_view_module": "@jupyter-widgets/controls",
      "_view_module_version": "1.5.0",
      "_view_name": "LabelView",
      "description": "",
      "description_tooltip": null,
      "layout": "IPY_MODEL_5220ebaaf2984805a1884b6cc5ba1a38",
      "placeholder": "​",
      "style": "IPY_MODEL_577e3830651b4647a714fa45b7ad5372",
      "value": "Select your bear!"
     }
    },
    "21a739de80864e79b7b443ec83d40145": {
     "model_module": "@jupyter-widgets/base",
     "model_name": "LayoutModel",
     "state": {
      "_model_module": "@jupyter-widgets/base",
      "_model_module_version": "1.2.0",
      "_model_name": "LayoutModel",
      "_view_count": null,
      "_view_module": "@jupyter-widgets/base",
      "_view_module_version": "1.2.0",
      "_view_name": "LayoutView",
      "align_content": null,
      "align_items": null,
      "align_self": null,
      "border": null,
      "bottom": null,
      "display": null,
      "flex": null,
      "flex_flow": null,
      "grid_area": null,
      "grid_auto_columns": null,
      "grid_auto_flow": null,
      "grid_auto_rows": null,
      "grid_column": null,
      "grid_gap": null,
      "grid_row": null,
      "grid_template_areas": null,
      "grid_template_columns": null,
      "grid_template_rows": null,
      "height": null,
      "justify_content": null,
      "justify_items": null,
      "left": null,
      "margin": null,
      "max_height": null,
      "max_width": null,
      "min_height": null,
      "min_width": null,
      "object_fit": null,
      "object_position": null,
      "order": null,
      "overflow": null,
      "overflow_x": null,
      "overflow_y": null,
      "padding": null,
      "right": null,
      "top": null,
      "visibility": null,
      "width": null
     }
    },
    "31f0bfec10e24daf88ddb1f12d7d8c15": {
     "model_module": "@jupyter-widgets/controls",
     "model_name": "LabelModel",
     "state": {
      "_dom_classes": [],
      "_model_module": "@jupyter-widgets/controls",
      "_model_module_version": "1.5.0",
      "_model_name": "LabelModel",
      "_view_count": null,
      "_view_module": "@jupyter-widgets/controls",
      "_view_module_version": "1.5.0",
      "_view_name": "LabelView",
      "description": "",
      "description_tooltip": null,
      "layout": "IPY_MODEL_21a739de80864e79b7b443ec83d40145",
      "placeholder": "​",
      "style": "IPY_MODEL_ecbb7795ba7d4eecb552f05877970e81",
      "value": "Prediction: grizzly; Probability: 1.0000"
     }
    },
    "3c75dfc701414c0db019b7435ccc0200": {
     "model_module": "@jupyter-widgets/controls",
     "model_name": "ButtonStyleModel",
     "state": {
      "_model_module": "@jupyter-widgets/controls",
      "_model_module_version": "1.5.0",
      "_model_name": "ButtonStyleModel",
      "_view_count": null,
      "_view_module": "@jupyter-widgets/base",
      "_view_module_version": "1.2.0",
      "_view_name": "StyleView",
      "button_color": null,
      "font_weight": ""
     }
    },
    "3e3c2996b7d344eea889b1668309f1ac": {
     "model_module": "@jupyter-widgets/base",
     "model_name": "LayoutModel",
     "state": {
      "_model_module": "@jupyter-widgets/base",
      "_model_module_version": "1.2.0",
      "_model_name": "LayoutModel",
      "_view_count": null,
      "_view_module": "@jupyter-widgets/base",
      "_view_module_version": "1.2.0",
      "_view_name": "LayoutView",
      "align_content": null,
      "align_items": null,
      "align_self": null,
      "border": null,
      "bottom": null,
      "display": null,
      "flex": null,
      "flex_flow": null,
      "grid_area": null,
      "grid_auto_columns": null,
      "grid_auto_flow": null,
      "grid_auto_rows": null,
      "grid_column": null,
      "grid_gap": null,
      "grid_row": null,
      "grid_template_areas": null,
      "grid_template_columns": null,
      "grid_template_rows": null,
      "height": null,
      "justify_content": null,
      "justify_items": null,
      "left": null,
      "margin": null,
      "max_height": null,
      "max_width": null,
      "min_height": null,
      "min_width": null,
      "object_fit": null,
      "object_position": null,
      "order": null,
      "overflow": null,
      "overflow_x": null,
      "overflow_y": null,
      "padding": null,
      "right": null,
      "top": null,
      "visibility": null,
      "width": null
     }
    },
    "4176e95ce4644bb4b5c2a5a3742b8b63": {
     "model_module": "@jupyter-widgets/output",
     "model_name": "OutputModel",
     "state": {
      "_dom_classes": [],
      "_model_module": "@jupyter-widgets/output",
      "_model_module_version": "1.0.0",
      "_model_name": "OutputModel",
      "_view_count": null,
      "_view_module": "@jupyter-widgets/output",
      "_view_module_version": "1.0.0",
      "_view_name": "OutputView",
      "layout": "IPY_MODEL_cf4428d507354eae969511a0dfd503ac",
      "msg_id": "",
      "outputs": [
       {
        "image/png": "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\n",
        "metadata": {
         "tags": []
        },
        "output_type": "display_data",
        "text/plain": "<PIL.Image.Image image mode=RGB size=128x128 at 0x7FEB22E5B3C8>"
       }
      ]
     }
    },
    "5220ebaaf2984805a1884b6cc5ba1a38": {
     "model_module": "@jupyter-widgets/base",
     "model_name": "LayoutModel",
     "state": {
      "_model_module": "@jupyter-widgets/base",
      "_model_module_version": "1.2.0",
      "_model_name": "LayoutModel",
      "_view_count": null,
      "_view_module": "@jupyter-widgets/base",
      "_view_module_version": "1.2.0",
      "_view_name": "LayoutView",
      "align_content": null,
      "align_items": null,
      "align_self": null,
      "border": null,
      "bottom": null,
      "display": null,
      "flex": null,
      "flex_flow": null,
      "grid_area": null,
      "grid_auto_columns": null,
      "grid_auto_flow": null,
      "grid_auto_rows": null,
      "grid_column": null,
      "grid_gap": null,
      "grid_row": null,
      "grid_template_areas": null,
      "grid_template_columns": null,
      "grid_template_rows": null,
      "height": null,
      "justify_content": null,
      "justify_items": null,
      "left": null,
      "margin": null,
      "max_height": null,
      "max_width": null,
      "min_height": null,
      "min_width": null,
      "object_fit": null,
      "object_position": null,
      "order": null,
      "overflow": null,
      "overflow_x": null,
      "overflow_y": null,
      "padding": null,
      "right": null,
      "top": null,
      "visibility": null,
      "width": null
     }
    },
    "577e3830651b4647a714fa45b7ad5372": {
     "model_module": "@jupyter-widgets/controls",
     "model_name": "DescriptionStyleModel",
     "state": {
      "_model_module": "@jupyter-widgets/controls",
      "_model_module_version": "1.5.0",
      "_model_name": "DescriptionStyleModel",
      "_view_count": null,
      "_view_module": "@jupyter-widgets/base",
      "_view_module_version": "1.2.0",
      "_view_name": "StyleView",
      "description_width": ""
     }
    },
    "5cbbb57d19ed4d10be920d40e12f2933": {
     "model_module": "@jupyter-widgets/controls",
     "model_name": "ButtonStyleModel",
     "state": {
      "_model_module": "@jupyter-widgets/controls",
      "_model_module_version": "1.5.0",
      "_model_name": "ButtonStyleModel",
      "_view_count": null,
      "_view_module": "@jupyter-widgets/base",
      "_view_module_version": "1.2.0",
      "_view_name": "StyleView",
      "button_color": null,
      "font_weight": ""
     }
    },
    "82f831e8465d4b1587b5ae3fdd77d829": {
     "model_module": "@jupyter-widgets/base",
     "model_name": "LayoutModel",
     "state": {
      "_model_module": "@jupyter-widgets/base",
      "_model_module_version": "1.2.0",
      "_model_name": "LayoutModel",
      "_view_count": null,
      "_view_module": "@jupyter-widgets/base",
      "_view_module_version": "1.2.0",
      "_view_name": "LayoutView",
      "align_content": null,
      "align_items": null,
      "align_self": null,
      "border": null,
      "bottom": null,
      "display": null,
      "flex": null,
      "flex_flow": null,
      "grid_area": null,
      "grid_auto_columns": null,
      "grid_auto_flow": null,
      "grid_auto_rows": null,
      "grid_column": null,
      "grid_gap": null,
      "grid_row": null,
      "grid_template_areas": null,
      "grid_template_columns": null,
      "grid_template_rows": null,
      "height": null,
      "justify_content": null,
      "justify_items": null,
      "left": null,
      "margin": null,
      "max_height": null,
      "max_width": null,
      "min_height": null,
      "min_width": null,
      "object_fit": null,
      "object_position": null,
      "order": null,
      "overflow": null,
      "overflow_x": null,
      "overflow_y": null,
      "padding": null,
      "right": null,
      "top": null,
      "visibility": null,
      "width": null
     }
    },
    "999149a048f142009e07def06d7ed760": {
     "model_module": "@jupyter-widgets/controls",
     "model_name": "ButtonModel",
     "state": {
      "_dom_classes": [],
      "_model_module": "@jupyter-widgets/controls",
      "_model_module_version": "1.5.0",
      "_model_name": "ButtonModel",
      "_view_count": null,
      "_view_module": "@jupyter-widgets/controls",
      "_view_module_version": "1.5.0",
      "_view_name": "ButtonView",
      "button_style": "",
      "description": "Classify",
      "disabled": false,
      "icon": "",
      "layout": "IPY_MODEL_3e3c2996b7d344eea889b1668309f1ac",
      "style": "IPY_MODEL_3c75dfc701414c0db019b7435ccc0200",
      "tooltip": ""
     }
    },
    "cf4428d507354eae969511a0dfd503ac": {
     "model_module": "@jupyter-widgets/base",
     "model_name": "LayoutModel",
     "state": {
      "_model_module": "@jupyter-widgets/base",
      "_model_module_version": "1.2.0",
      "_model_name": "LayoutModel",
      "_view_count": null,
      "_view_module": "@jupyter-widgets/base",
      "_view_module_version": "1.2.0",
      "_view_name": "LayoutView",
      "align_content": null,
      "align_items": null,
      "align_self": null,
      "border": null,
      "bottom": null,
      "display": null,
      "flex": null,
      "flex_flow": null,
      "grid_area": null,
      "grid_auto_columns": null,
      "grid_auto_flow": null,
      "grid_auto_rows": null,
      "grid_column": null,
      "grid_gap": null,
      "grid_row": null,
      "grid_template_areas": null,
      "grid_template_columns": null,
      "grid_template_rows": null,
      "height": null,
      "justify_content": null,
      "justify_items": null,
      "left": null,
      "margin": null,
      "max_height": null,
      "max_width": null,
      "min_height": null,
      "min_width": null,
      "object_fit": null,
      "object_position": null,
      "order": null,
      "overflow": null,
      "overflow_x": null,
      "overflow_y": null,
      "padding": null,
      "right": null,
      "top": null,
      "visibility": null,
      "width": null
     }
    },
    "e8f4d4a39feb41aa94cd2218f8307038": {
     "model_module": "@jupyter-widgets/controls",
     "model_name": "VBoxModel",
     "state": {
      "_dom_classes": [],
      "_model_module": "@jupyter-widgets/controls",
      "_model_module_version": "1.5.0",
      "_model_name": "VBoxModel",
      "_view_count": null,
      "_view_module": "@jupyter-widgets/controls",
      "_view_module_version": "1.5.0",
      "_view_name": "VBoxView",
      "box_style": "",
      "children": [
       "IPY_MODEL_2097a4f514be426d83474345941d2c9f",
       "IPY_MODEL_1fee97c8eb21440eae8b77ef6502ded7",
       "IPY_MODEL_999149a048f142009e07def06d7ed760",
       "IPY_MODEL_4176e95ce4644bb4b5c2a5a3742b8b63",
       "IPY_MODEL_31f0bfec10e24daf88ddb1f12d7d8c15"
      ],
      "layout": "IPY_MODEL_0134ffbb5f6b49a1b2179fe68c1a296a"
     }
    },
    "ecbb7795ba7d4eecb552f05877970e81": {
     "model_module": "@jupyter-widgets/controls",
     "model_name": "DescriptionStyleModel",
     "state": {
      "_model_module": "@jupyter-widgets/controls",
      "_model_module_version": "1.5.0",
      "_model_name": "DescriptionStyleModel",
      "_view_count": null,
      "_view_module": "@jupyter-widgets/base",
      "_view_module_version": "1.2.0",
      "_view_name": "StyleView",
      "description_width": ""
     }
    }
   }
  }
 },
 "nbformat": 4,
 "nbformat_minor": 1
}
